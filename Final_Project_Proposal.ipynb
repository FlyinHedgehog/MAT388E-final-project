{
 "cells": [
  {
   "cell_type": "markdown",
   "id": "ed6ec0cf",
   "metadata": {},
   "source": []
  },
  {
   "cell_type": "markdown",
   "id": "f7788ab1",
   "metadata": {},
   "source": [
    "# Calculating Stock Price Deviations\n",
    "\n",
    "## Team Members\n",
    "\n",
    "1. Harun Lokman Kılıç (kilichar18@itu.edu.tr, 090180312)\n",
    "2. Gökçe Şahin (sahingo@itu.edu.tr, 090190306)\n",
    "\n",
    "## Dataset\n",
    "\n",
    "Data is going to be pulled from [YFinance](https://finance.yahoo.com/) library. We are going to use all the companies' (Yahoo Finance contains approximately 106332 companies) closing stock prices to test our hypothesis. (We chose not to explain the dataset since we have used the data in our lessons)"
   ]
  },
  {
   "cell_type": "markdown",
   "id": "16cd77b4",
   "metadata": {},
   "source": [
    "### Here is a sample of the data that we are going to use, for 1 company:"
   ]
  },
  {
   "cell_type": "code",
   "execution_count": 1,
   "id": "5b212a43",
   "metadata": {},
   "outputs": [
    {
     "name": "stdout",
     "output_type": "stream",
     "text": [
      "[*********************100%***********************]  1 of 1 completed\n"
     ]
    },
    {
     "data": {
      "text/html": [
       "<div>\n",
       "<style scoped>\n",
       "    .dataframe tbody tr th:only-of-type {\n",
       "        vertical-align: middle;\n",
       "    }\n",
       "\n",
       "    .dataframe tbody tr th {\n",
       "        vertical-align: top;\n",
       "    }\n",
       "\n",
       "    .dataframe thead th {\n",
       "        text-align: right;\n",
       "    }\n",
       "</style>\n",
       "<table border=\"1\" class=\"dataframe\">\n",
       "  <thead>\n",
       "    <tr style=\"text-align: right;\">\n",
       "      <th></th>\n",
       "      <th>Open</th>\n",
       "      <th>High</th>\n",
       "      <th>Low</th>\n",
       "      <th>Close</th>\n",
       "      <th>Adj Close</th>\n",
       "      <th>Volume</th>\n",
       "    </tr>\n",
       "    <tr>\n",
       "      <th>Date</th>\n",
       "      <th></th>\n",
       "      <th></th>\n",
       "      <th></th>\n",
       "      <th></th>\n",
       "      <th></th>\n",
       "      <th></th>\n",
       "    </tr>\n",
       "  </thead>\n",
       "  <tbody>\n",
       "    <tr>\n",
       "      <th>1980-12-12</th>\n",
       "      <td>0.128348</td>\n",
       "      <td>0.128906</td>\n",
       "      <td>0.128348</td>\n",
       "      <td>0.128348</td>\n",
       "      <td>0.099874</td>\n",
       "      <td>469033600</td>\n",
       "    </tr>\n",
       "    <tr>\n",
       "      <th>1980-12-15</th>\n",
       "      <td>0.122210</td>\n",
       "      <td>0.122210</td>\n",
       "      <td>0.121652</td>\n",
       "      <td>0.121652</td>\n",
       "      <td>0.094663</td>\n",
       "      <td>175884800</td>\n",
       "    </tr>\n",
       "    <tr>\n",
       "      <th>1980-12-16</th>\n",
       "      <td>0.113281</td>\n",
       "      <td>0.113281</td>\n",
       "      <td>0.112723</td>\n",
       "      <td>0.112723</td>\n",
       "      <td>0.087715</td>\n",
       "      <td>105728000</td>\n",
       "    </tr>\n",
       "    <tr>\n",
       "      <th>1980-12-17</th>\n",
       "      <td>0.115513</td>\n",
       "      <td>0.116071</td>\n",
       "      <td>0.115513</td>\n",
       "      <td>0.115513</td>\n",
       "      <td>0.089886</td>\n",
       "      <td>86441600</td>\n",
       "    </tr>\n",
       "    <tr>\n",
       "      <th>1980-12-18</th>\n",
       "      <td>0.118862</td>\n",
       "      <td>0.119420</td>\n",
       "      <td>0.118862</td>\n",
       "      <td>0.118862</td>\n",
       "      <td>0.092492</td>\n",
       "      <td>73449600</td>\n",
       "    </tr>\n",
       "  </tbody>\n",
       "</table>\n",
       "</div>"
      ],
      "text/plain": [
       "                Open      High       Low     Close  Adj Close     Volume\n",
       "Date                                                                    \n",
       "1980-12-12  0.128348  0.128906  0.128348  0.128348   0.099874  469033600\n",
       "1980-12-15  0.122210  0.122210  0.121652  0.121652   0.094663  175884800\n",
       "1980-12-16  0.113281  0.113281  0.112723  0.112723   0.087715  105728000\n",
       "1980-12-17  0.115513  0.116071  0.115513  0.115513   0.089886   86441600\n",
       "1980-12-18  0.118862  0.119420  0.118862  0.118862   0.092492   73449600"
      ]
     },
     "execution_count": 1,
     "metadata": {},
     "output_type": "execute_result"
    }
   ],
   "source": [
    "import yfinance as yf\n",
    "\n",
    "display_data = yf.download(\"AAPL\")\n",
    "display_data.head()"
   ]
  },
  {
   "cell_type": "markdown",
   "id": "83d2158f",
   "metadata": {},
   "source": [
    "## Description & Hypothesis\n",
    "\n",
    "We are going to ask the data whether there is a week in any companies stock history where the stock price deviates more than 2%, which is related to our hypothesis: that is, we say that a stock won't change more than 2% in the following week of any given day. We are going to group each companies' stock history by weeks to determine the change in the stock price in that week. A plain statistics will be created for each company which in result will tell us whether our hypothesis is true or not, and if true, with how much confidence. We expect our hypothesis to be true, with the usual confidence, 95%.\n",
    "\n",
    "## Roles\n",
    "We will analyze the data together by eye, try different grouping strategies & create analysis accordingly on our own, and compare each others' results to establish the final presentation.\n"
   ]
  }
 ],
 "metadata": {
  "kernelspec": {
   "display_name": "Python 3.10.8 64-bit (microsoft store)",
   "language": "python",
   "name": "python3"
  },
  "language_info": {
   "codemirror_mode": {
    "name": "ipython",
    "version": 3
   },
   "file_extension": ".py",
   "mimetype": "text/x-python",
   "name": "python",
   "nbconvert_exporter": "python",
   "pygments_lexer": "ipython3",
   "version": "3.10.8"
  },
  "vscode": {
   "interpreter": {
    "hash": "8e8271cb67d71434d71d7359a5244618f962c24c33d897b4dd8966bfba9a1715"
   }
  }
 },
 "nbformat": 4,
 "nbformat_minor": 5
}
