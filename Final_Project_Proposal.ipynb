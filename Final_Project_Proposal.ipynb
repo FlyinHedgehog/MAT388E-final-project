{
 "cells": [
  {
   "cell_type": "markdown",
   "id": "a5a50887",
   "metadata": {},
   "source": [
    "# Analysis of the Daylight Saving Time Policy\n",
    "\n",
    "## Team Members\n",
    "\n",
    "1. Harun Lokman Kılıç (kilichar18@itu.edu.tr, 090180312)\n",
    "2. Gökçe Şahin (sahingo@itu.edu.tr, 090190306)"
   ]
  },
  {
   "cell_type": "markdown",
   "id": "f94b67e7",
   "metadata": {},
   "source": [
    "### Datasets and APIs\n",
    "\n",
    "- [US Traffic Fatality Records](https://www.kaggle.com/datasets/usdot/nhtsa-traffic-fatalities)\n",
    "    - [Car Crashes After Daylight Saving, Kaggle](https://www.kaggle.com/code/alexgude/car-crashes-after-daylight-saving/notebook)\n",
    "    - [Traffic accidents & daylight savings time, Kaggle](https://www.kaggle.com/code/rtatman/traffic-accidents-daylight-savings-time/notebook)\n",
    "- [UK Road Safety: Traffic Accidents and Vehicles](https://www.kaggle.com/datasets/tsiaras/uk-road-safety-accidents-and-vehicles)\n",
    "- [EDA, Bicycle Accidents in Great Britain 1979-2018](https://www.kaggle.com/code/khsamaha/eda-bicycle-accidents-in-great-britain-1979-2018/data)\n",
    "- [City Populations by Years for Turkey, TÜİK](https://data.tuik.gov.tr/Search/Search?text=il%20n%C3%BCfus)\n",
    "- [Preliminary results of the public consultation on clock change in Europe (2018), European Commission](https://ec.europa.eu/commission/presscorner/detail/en/IP_18_5302) (_We'll assign this data to an array ourselves._)\n",
    "- [Sunset and Sunrise Times API, sunrisesunset.io](https://sunrisesunset.io/api/)\n",
    "- [Turkish Electricity Transmission Corporation (TEİAŞ)](https://ytbsbilgi.teias.gov.tr/ytbsbilgi/frm_istatistikler.jsf)\n",
    "- [Turkish State Meteorological Service (MGM)](https://www.mgm.gov.tr/site/urunler.aspx?u=tum)"
   ]
  },
  {
   "cell_type": "markdown",
   "id": "8ec82b27",
   "metadata": {},
   "source": [
    "### Questions\n",
    "(We'll add description for the each question)\n",
    "- Does daylight saving time policy save energy?\n",
    "- What are the possible bad effects of daylight saving time policy? Is there a significant increase in car crashes after the clock change?\n",
    "- In 2016 Turkey decided to remain permanently in the summertime zone. Which time zone is better for Turkey (summer or winter)?\n",
    "    - Population density map of Turkey\n",
    "    - In which city is Turkey's population density point and which time zone is this city closer to? \n",
    "- What countries have daylight saving policy?\n",
    "- Which cities are worst affected by the permanent summertime in Turkey?\n",
    "    - Sunrise and sunset times in densely populated cities (Istanbul, Ankara, Izmir, Bursa, Antalya)\n",
    "- What are the preliminary results of the public consultation on time change in Europe? "
   ]
  },
  {
   "cell_type": "markdown",
   "id": "480ab3bf",
   "metadata": {},
   "source": [
    "### Project Plan\n",
    "1. Research on daylight saving time policy \n",
    "2. Determining the questions to be asked on the subject\n",
    "3. Selection of appropriate datasets and models\n",
    "4. Asking questions to the data and getting answers\n",
    "5. Visualization of the results obtained\n",
    "6. Interpretation of the result"
   ]
  },
  {
   "cell_type": "markdown",
   "id": "af00dd59",
   "metadata": {},
   "source": [
    "## Roles\n",
    "We've not yet decided how we will distribute the tasks. We plan to do everything by helping each other. We'll post what we've done as we progress through the project.\n",
    "\n",
    "| Date | Task | Attendant(s) |\n",
    "| --- | --- | --- |\n",
    "| 25.11.2022 | Preparation of the proposal | Gökçe & Harun |"
   ]
  },
  {
   "cell_type": "markdown",
   "id": "d749f4e8",
   "metadata": {},
   "source": [
    "## Calendar\n",
    "(This part will be edited soon.)\n",
    "| Date | Task |\n",
    "| --- | --- |\n",
    "| x November 2022 | blabla |\n",
    "| x November 2022 | blabla |\n",
    "| x November 2022 | blabla |\n",
    "| x November 2022 | blabla |\n",
    "| x November 2022 | blabla |\n",
    "| x November 2022 | blabla |"
   ]
  },
  {
   "cell_type": "markdown",
   "id": "e03a15e3",
   "metadata": {},
   "source": [
    "## Appendix\n",
    "\n",
    "### Our notes from the research paper [\"Daylight Saving Time policy and energy consumption\"](https://www.sciencedirect.com/science/article/pii/S2352484721006272#fig2):\n",
    "\n",
    "- The policy has been found controversial for many other reasons. One of the main questions is whether it caused more electricity consumption or saved more energy considering other economic activities linked to electricity other than just lighting.\n",
    "-  Difference in Difference (DID) methodology. The difference in differences method was used with detailed panelled data. They indicated no effect of the DST policy on electricity consumption by showing a decrease in energy consumption in the evening whilst a demand increase in the morning compensates for it.\n",
    "- A study showed that the workers in the UK and Germany considerably affected by the transition to DST; this effect revealed in the society as an efficiency loss. \n",
    "- The DST policy was abolished entirely in 2016 in Turkey.\n",
    "- The European Parliament voted to repeal the practice of DST in 2021.\n",
    "- Even though DST policy’s beginning was driven by energy-saving purposes, we cannot find concrete evidence of whether or not this is the case. \n",
    "- Factors that affect electricity consumption can be grouped under the following headings; social, economic, socio-economic, socio-demographic, behavioural, the character of dwelling, and appliances variables. To measure DST’s impact on electricity consumption, they only used atmospheric climate variables and electricity prices.\n",
    "-  The Turkish Transmission System Operator’s (TEİAŞ) electricity consumption data was used for the analysis (TEİAŞ, 2021). The weather data were taken from the Turkish State Meteorological Service (MGM, 2021).\n",
    "\n",
    "Multiple linear regression analysis:\n",
    "- We constructed a multiple regression model whose dependent variable is the hourly electricity consumption, and the independent variables are the atmospheric essential climate parameters. Eight independent variables were defined for our model. There are dozens, maybe hundreds, of parameters that have an impact on the consumption of electricity. It is hard to consider all these parameters from the real world due to a lack of data and hard to reach specific data.\n",
    "- We narrowed down our independent variables, or the parameters of relevance, to essential climate variables or merely weather data such as temperature, wind speed, humidity, weather condition, and visibility.\n",
    "- Due to currency fluctuations and high inflation, electricity prices in Turkey are updated often and regularly. Also, since we use historical datasets, we took into account the electricity prices because the consumption of a product or a commodity is directly affected by its price in the long run.\n",
    "- Weather condition is a categorical variable, and it consists of 71 subcategories. We fed these 71 subcategories in our regression model as different weather parameters. \n",
    "- We add the intersection variable that measures the intersection of work hours and the day’s sunlight duration. With the intersection variable, we estimate what percentage of the daylight is being made use of workers. For example, let us assume that the working hours are 8 am and 5 pm, and the sunrise is at 6:30 am, and the sunset is at 6:30 pm. In this case, all working hours lie in between sunlight duration and hence the intersection factor is 1.0.\n",
    "- The other parameter is the Daylight Saving Time (DST) variable. DST variable is a categorical variable, and it represents whether the country is in the summer or winter time zones.\n",
    "\n",
    "Interrupted time series analysis:\n",
    "- ITS analysis reveals the changing trend in outcome with specific intervention in a time series.\n",
    "- According to ITS methodology, we defined the required three variables. These are listed as:\n",
    "    - Time elapsed: This variable measures the elapsed time since the start of the study by a unit of frequency of the observations; in our case, it is hourly data.\n",
    "    - Intervention: It is a dummy variable that coded as pre-intervention period and post-intervention period at time t.\n",
    "    - Dependent variable as an outcome of the interventions at time t.\n",
    "\n",
    "Difference in differences method:\n",
    "- We observed outcomes of electricity consumption with clock change during the wintertime, which was exposed to the intervention and clock change in the summertime is defined as a control group. With the DST policy change in 2016, pre-intervention time and post-intervention time were defined.\n",
    "\n",
    "#### Results\n",
    "- Atmospheric variables, and thus the DST policy-related parameters and energy prices, lead to an R-square value of a maximum of 0.5.\n",
    "- The results indicate that including the electricity prices as an input to the analysis increases the R-squared values almost by 20%. However, the overall figures, which are less than 50%, falls below the expected threshold, which is 90%, for a reliable and acceptable conclusion. \n",
    "- Electricity consumption creates an almost weekly repetitive pattern by making a dip during the weekends and holidays. While there is no particular trendline pattern at the beginning of DST, a positively sloping trendline pattern is seen at the end of DST. This is understandable since, in autumn, heating naturally increases electric energy consumption in Turkey. During autumn 2016, Turkey did not enter the wintertime zone. However, we see a similar trend line with the previous years when the country changed clocks. When Turkey entered the summertime zones during springs, we see a decrease in electricity consumption (except for 2014 and 2016). However, we cannot claim that this was due to the DST policy since the warming weather means less heating, and the decreasing trend is observed weeks before the changing of the clocks dates.\n",
    "- Whether or not DST is applied, there is a trend downwards during springs, and during autumn, the trend is upwards. In conclusion, we claim that we cannot measure DST’s impact by observing R-square values, and we cannot follow the effect with trend lines.\n",
    "- From the trend lines of energy consumption two weeks before and after the clock change dates, we cannot observe that there is an energy-saving, or a decrease in consumption, due to the DST policy. Therefore, we argue that switching time zones does not have a measurable or observable impact on energy savings.\n",
    "- There is a one-hour load shift during the springs’ weekends. However, there is no load shift during weekends of autumn and the weekdays throughout the year. Therefore, we claim that the argument for the one-hour load shift due to the DST is quite limited and cannot be observed continually.\n",
    "\n",
    "#### Models\n",
    "- __Multiple Linear Regression (MLR)__: A statistical method that estimates the relationship between continuous quantitative variables.\n",
    "- __Difference in Differences (DID)__: A design that examines the comparison of differences in outcomes of a treated time series with an untreated series by referring controlled before-and-after an intervention.\n",
    "- __Interrupted Time Series (ITS)__: A methodology which uses to evaluate multiple consecutive pre-and post-intervention observations in a single population and incorporates time by comparing slopes of trend lines before and after the intervention.\n",
    "\n",
    "The video made us choice this topic for our project: [Yaz Saati Uygulamasına GERİ DÖNMEMELİYİZ!,  Evrim Ağacı](https://www.youtube.com/watch?v=EBooXuKajnA)"
   ]
  }
 ],
 "metadata": {
  "kernelspec": {
   "display_name": "Python 3.10.8 64-bit (microsoft store)",
   "language": "python",
   "name": "python3"
  },
  "language_info": {
   "codemirror_mode": {
    "name": "ipython",
    "version": 3
   },
   "file_extension": ".py",
   "mimetype": "text/x-python",
   "name": "python",
   "nbconvert_exporter": "python",
   "pygments_lexer": "ipython3",
   "version": "3.10.8"
  },
  "vscode": {
   "interpreter": {
    "hash": "8e8271cb67d71434d71d7359a5244618f962c24c33d897b4dd8966bfba9a1715"
   }
  }
 },
 "nbformat": 4,
 "nbformat_minor": 5
}
