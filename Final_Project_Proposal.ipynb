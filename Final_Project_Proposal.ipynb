{
 "cells": [
  {
   "cell_type": "markdown",
   "id": "ed6ec0cf",
   "metadata": {},
   "source": [
    "# Recommending Clone Playlists With Regression Models\n",
    "\n",
    "## Team Members\n",
    "\n",
    "1. Harun Lokman Kılıç (kilichar18@itu.edu.tr, 090180312)\n",
    "2. Gökçe Şahin (sahingo@itu.edu.tr, 090190306)\n",
    "\n",
    "## Dataset\n",
    "\n",
    "Data is going to be pulled with [Spotipy](https://spotipy.readthedocs.io/en/2.21.0/) library. We are going to use any playlist, in which we use each song's genre, artist, popularity (# times listened) etc.  \n",
    "\n",
    "## Description of the Problem\n",
    "\n",
    "Our goal is to recommend a Spotify playlist based on any Spotify playlist.\n",
    "\n",
    "## Project Planning\n",
    "\n",
    "- Initial Research\n",
    "- Using Multi-Classification to get nominees to recommend to each song\n",
    "- Parameter tuning\n",
    "- Filtering the nominees and making the recommendations\n",
    "\n"
   ]
  },
  {
   "cell_type": "markdown",
   "id": "78860625",
   "metadata": {},
   "source": [
    "#### POST SCRIPTUM:\n",
    "**Our first proposal was about image extension/completion using machine learning algorithms, however we have found this subject unrelated to the course and figured out that we still lack the necesarry skills to integrate Machine Learning into such a project, let alone dealing with Machine Learning and its libraries. Thanks in advance for your understanding.**"
   ]
  }
 ],
 "metadata": {
  "kernelspec": {
   "display_name": "Python 3",
   "language": "python",
   "name": "python3"
  },
  "language_info": {
   "codemirror_mode": {
    "name": "ipython",
    "version": 3
   },
   "file_extension": ".py",
   "mimetype": "text/x-python",
   "name": "python",
   "nbconvert_exporter": "python",
   "pygments_lexer": "ipython3",
   "version": "3.8.8"
  }
 },
 "nbformat": 4,
 "nbformat_minor": 5
}
